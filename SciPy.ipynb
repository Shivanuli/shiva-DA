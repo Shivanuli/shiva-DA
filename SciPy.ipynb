{
  "nbformat": 4,
  "nbformat_minor": 0,
  "metadata": {
    "colab": {
      "provenance": [],
      "authorship_tag": "ABX9TyPXSMc7ewe0YsJGuCFrzWYT",
      "include_colab_link": true
    },
    "kernelspec": {
      "name": "python3",
      "display_name": "Python 3"
    },
    "language_info": {
      "name": "python"
    }
  },
  "cells": [
    {
      "cell_type": "markdown",
      "metadata": {
        "id": "view-in-github",
        "colab_type": "text"
      },
      "source": [
        "<a href=\"https://colab.research.google.com/github/Shivanuli/shiva-DA/blob/main/SciPy.ipynb\" target=\"_parent\"><img src=\"https://colab.research.google.com/assets/colab-badge.svg\" alt=\"Open In Colab\"/></a>"
      ]
    },
    {
      "cell_type": "code",
      "execution_count": 1,
      "metadata": {
        "colab": {
          "base_uri": "https://localhost:8080/"
        },
        "id": "ALvZIWFP8Hj5",
        "outputId": "92aef6a5-3576-4411-f24b-355636173ef1"
      },
      "outputs": [
        {
          "output_type": "stream",
          "name": "stdout",
          "text": [
            "Requirement already satisfied: scipy in /usr/local/lib/python3.10/dist-packages (1.11.4)\n",
            "Requirement already satisfied: numpy<1.28.0,>=1.21.6 in /usr/local/lib/python3.10/dist-packages (from scipy) (1.25.2)\n"
          ]
        }
      ],
      "source": [
        "pip install scipy"
      ]
    },
    {
      "cell_type": "code",
      "source": [
        "import scipy\n",
        "#example integration using quad function\n",
        "from scipy import integrate\n",
        "result,error=integrate.quad(lambda x:x**2,0,1)\n",
        "print(\"REsult:\",result)\n",
        "print(\"Error:\",error)"
      ],
      "metadata": {
        "colab": {
          "base_uri": "https://localhost:8080/"
        },
        "id": "d2V-9aRQ8UUj",
        "outputId": "28c519a6-8155-4f71-cd10-a4c42ce84c2c"
      },
      "execution_count": 4,
      "outputs": [
        {
          "output_type": "stream",
          "name": "stdout",
          "text": [
            "REsult: 0.33333333333333337\n",
            "Error: 3.700743415417189e-15\n"
          ]
        }
      ]
    },
    {
      "cell_type": "code",
      "source": [
        "import numpy as np\n",
        "from scipy import optimize\n",
        "#Optimization\n",
        "result_optimization=optimize.minimize_scalar(lambda x : x**2 + 3*x + 5)\n",
        "print(\"optimization result : \",result_optimization.x)"
      ],
      "metadata": {
        "colab": {
          "base_uri": "https://localhost:8080/"
        },
        "id": "UMtqSr9S9Ftt",
        "outputId": "0f796c22-2602-4bce-8d20-b3754483a6ed"
      },
      "execution_count": 6,
      "outputs": [
        {
          "output_type": "stream",
          "name": "stdout",
          "text": [
            "optimization result :  -1.5000000000000002\n"
          ]
        }
      ]
    },
    {
      "cell_type": "code",
      "source": [
        "square=lambda x : x**2\n",
        "#using labda function\n",
        "result=square(5)\n",
        "result"
      ],
      "metadata": {
        "colab": {
          "base_uri": "https://localhost:8080/"
        },
        "id": "tBjEtE_e-eAu",
        "outputId": "d119d386-d928-48ed-f944-8eb21fe98872"
      },
      "execution_count": 8,
      "outputs": [
        {
          "output_type": "execute_result",
          "data": {
            "text/plain": [
              "25"
            ]
          },
          "metadata": {},
          "execution_count": 8
        }
      ]
    },
    {
      "cell_type": "code",
      "source": [
        "addnumbers=lambda x,y:x+y\n",
        "result=addnumbers(3,4)\n",
        "result"
      ],
      "metadata": {
        "colab": {
          "base_uri": "https://localhost:8080/"
        },
        "id": "J08jyugN_QPU",
        "outputId": "d9c1c140-281f-4e08-b1b4-8cbe4bd232c2"
      },
      "execution_count": 10,
      "outputs": [
        {
          "output_type": "execute_result",
          "data": {
            "text/plain": [
              "7"
            ]
          },
          "metadata": {},
          "execution_count": 10
        }
      ]
    },
    {
      "cell_type": "code",
      "source": [
        "import numpy as np\n",
        "from scipy import interpolate\n",
        "#interpolation\n",
        "x_data=np.array([0,1,2,3,4])\n",
        "y_data=np.array([0,2,1,3,5])                #y=y1+x-x1*((y2-y1)/(x2-x1))\n",
        "interp_func=interpolate. interp1d(x_data,y_data,kind='linear')\n",
        "interp_result=interp_func(2.5)\n",
        "print(\"Interpolation Result:\",interp_result)"
      ],
      "metadata": {
        "colab": {
          "base_uri": "https://localhost:8080/"
        },
        "id": "UkGhBNON_pmO",
        "outputId": "5b3224ac-00f1-4316-bb0f-c357bed05f15"
      },
      "execution_count": 16,
      "outputs": [
        {
          "output_type": "stream",
          "name": "stdout",
          "text": [
            "Interpolation Result: 2.0\n"
          ]
        }
      ]
    },
    {
      "cell_type": "code",
      "source": [
        "y=2+(2.5-1)*((1-2)/(2-1))\n",
        "y"
      ],
      "metadata": {
        "colab": {
          "base_uri": "https://localhost:8080/"
        },
        "id": "pRI2pioiB2TN",
        "outputId": "b64d6fb7-0346-42bb-c3d2-49f2787b1f56"
      },
      "execution_count": 19,
      "outputs": [
        {
          "output_type": "execute_result",
          "data": {
            "text/plain": [
              "0.5"
            ]
          },
          "metadata": {},
          "execution_count": 19
        }
      ]
    },
    {
      "cell_type": "code",
      "source": [
        "import numpy as np\n",
        "import pandas as pd\n",
        "import scipy.stats as stats\n",
        "import statsmodels.api as sm"
      ],
      "metadata": {
        "id": "RARMnTW8DbUO"
      },
      "execution_count": 37,
      "outputs": []
    },
    {
      "cell_type": "code",
      "source": [
        "#generate sample data\n",
        "\n",
        "data=pd.DataFrame({\n",
        "    'treatment':np.random.choice(['a','b','c'],size=100),\n",
        "    'score' : np.random.normal(loc=10,scale=2,size=100)\n",
        "})\n",
        "print(data)"
      ],
      "metadata": {
        "colab": {
          "base_uri": "https://localhost:8080/"
        },
        "id": "sj-Fid7pFosj",
        "outputId": "3237bb77-e183-4f4e-f4f1-ce929f0e09c4"
      },
      "execution_count": 39,
      "outputs": [
        {
          "output_type": "stream",
          "name": "stdout",
          "text": [
            "   treatment      score\n",
            "0          b  11.790521\n",
            "1          b  12.749928\n",
            "2          a   7.335577\n",
            "3          c   6.062751\n",
            "4          a   8.679887\n",
            "..       ...        ...\n",
            "95         c   8.819885\n",
            "96         b   9.779021\n",
            "97         b   6.678600\n",
            "98         b  10.230296\n",
            "99         b   9.241705\n",
            "\n",
            "[100 rows x 2 columns]\n"
          ]
        }
      ]
    },
    {
      "cell_type": "code",
      "source": [
        "#calculate mean score for each treatment group\n",
        "mean_score_per_group=data.groupby('treatment')['score'].mean()\n",
        "mean_score_per_group\n"
      ],
      "metadata": {
        "colab": {
          "base_uri": "https://localhost:8080/"
        },
        "id": "qGKL-BVyIC5G",
        "outputId": "c0abff9d-6bb2-4595-c290-29a50b1c4d47"
      },
      "execution_count": 42,
      "outputs": [
        {
          "output_type": "execute_result",
          "data": {
            "text/plain": [
              "treatment\n",
              "a    9.937419\n",
              "b    9.297077\n",
              "c    9.443768\n",
              "Name: score, dtype: float64"
            ]
          },
          "metadata": {},
          "execution_count": 42
        }
      ]
    },
    {
      "cell_type": "code",
      "source": [
        "#generate random treatment selection\n",
        "choices=['a','b','c']\n",
        "size=100\n",
        "treatment_col=np.random.choice(choices,size=size)\n",
        "print(treatment_col)"
      ],
      "metadata": {
        "colab": {
          "base_uri": "https://localhost:8080/"
        },
        "id": "6X4N_flwJHbX",
        "outputId": "bdf23cdc-fc95-49b8-acc1-6939d69dafd5"
      },
      "execution_count": 44,
      "outputs": [
        {
          "output_type": "stream",
          "name": "stdout",
          "text": [
            "['c' 'a' 'c' 'a' 'a' 'a' 'c' 'b' 'b' 'c' 'c' 'a' 'c' 'a' 'c' 'b' 'b' 'b'\n",
            " 'c' 'a' 'b' 'a' 'b' 'a' 'c' 'c' 'a' 'c' 'a' 'c' 'c' 'a' 'b' 'b' 'b' 'a'\n",
            " 'b' 'c' 'b' 'c' 'b' 'b' 'a' 'c' 'c' 'c' 'b' 'b' 'a' 'a' 'a' 'b' 'a' 'c'\n",
            " 'a' 'b' 'a' 'c' 'c' 'c' 'b' 'c' 'a' 'a' 'c' 'b' 'c' 'a' 'a' 'c' 'b' 'a'\n",
            " 'b' 'c' 'a' 'a' 'a' 'a' 'a' 'a' 'c' 'a' 'a' 'c' 'a' 'a' 'c' 'a' 'a' 'c'\n",
            " 'a' 'c' 'a' 'a' 'c' 'b' 'c' 'b' 'b' 'a']\n"
          ]
        }
      ]
    },
    {
      "cell_type": "code",
      "source": [
        "#generate random numbers following a normal distribution\n",
        "mean=10\n",
        "std=2\n",
        "size=100\n",
        "score_values=mean+std*np.random.randn(size)\n",
        "print(score_values)"
      ],
      "metadata": {
        "colab": {
          "base_uri": "https://localhost:8080/"
        },
        "id": "x0ZOx-k2JZ0E",
        "outputId": "7e481001-bf17-4348-f8f5-4c234ae42318"
      },
      "execution_count": 45,
      "outputs": [
        {
          "output_type": "stream",
          "name": "stdout",
          "text": [
            "[10.09704806  7.47728522  9.24583236 11.79985806 11.62227448  8.19309493\n",
            " 10.00673132 10.85765245  6.91057725  6.92480559 11.31745114 11.88292718\n",
            " 10.65219618 11.27103846  7.18541931  9.43052586 12.3755733  11.54352531\n",
            "  9.78920248 15.0052909  10.52559125  9.29493341 12.34780106  9.9442507\n",
            "  8.41999402  9.96749113 11.0305304   9.43713212 10.20527032  9.92752015\n",
            "  5.88829668  8.27190901  9.6688586  12.91827817 10.15177477 12.94037878\n",
            " 11.38606878 13.23400225  8.06406253 12.78482851  7.99706058 13.97606775\n",
            "  6.65562266  6.60714609 10.92125006 11.64587347  9.15211007  9.40142135\n",
            "  9.94884271  8.8421526  11.76585928 10.3903386   9.5703114  11.35011821\n",
            " 10.15996947 11.50550791  7.48561327 10.57970236  9.37202993  9.05631874\n",
            "  9.37640832  9.15329503 12.17827754 10.23550146  9.62522943 10.16419269\n",
            "  9.8840596   6.85090602 11.37132255 10.98509445  9.01906459  9.27339822\n",
            " 10.40462547 11.02145045  9.34595121 10.91963074  9.29488766  8.25080391\n",
            "  9.60880825  9.77356894  7.42843024 11.4933921   6.44714886  9.16464094\n",
            "  9.80949606 11.61151692  5.34410488 13.52637474  7.59485671  7.90695795\n",
            "  8.34745871  8.71737079  5.67648752  9.79430898  9.00665216  9.61208995\n",
            " 13.47115835  8.3091365   7.20535588  9.55562895]\n"
          ]
        }
      ]
    },
    {
      "cell_type": "code",
      "source": [
        "#hypothesis testing\n",
        "group_A =data[data['treatment']=='A']['score']\n",
        "group_B =data[data['treatment']=='B']['score']\n",
        "t_stat,p_value= stats.ttest_ind(group_A,group_B)\n",
        "print(\"t-statistic:\",t_stat)\n",
        "print(\"p-value:\",p_value)"
      ],
      "metadata": {
        "colab": {
          "base_uri": "https://localhost:8080/"
        },
        "id": "oSQmkbYJKFDj",
        "outputId": "717afc9c-c73d-4169-eb43-c6395283204e"
      },
      "execution_count": 50,
      "outputs": [
        {
          "output_type": "stream",
          "name": "stdout",
          "text": [
            "t-statistic: nan\n",
            "p-value: nan\n"
          ]
        }
      ]
    },
    {
      "cell_type": "code",
      "source": [
        "size=10\n",
        "data1=pd.DataFrame({\n",
        "    'a':np.random.randn(size),\n",
        "    'b' : np.random.randn(size)\n",
        "})\n",
        "print(data1)\n"
      ],
      "metadata": {
        "colab": {
          "base_uri": "https://localhost:8080/"
        },
        "id": "In3UOqK7MX0p",
        "outputId": "56c3e9f8-a021-4e06-ec0b-15fe2f01d051"
      },
      "execution_count": 53,
      "outputs": [
        {
          "output_type": "stream",
          "name": "stdout",
          "text": [
            "          a         b\n",
            "0  0.824386 -1.420277\n",
            "1 -0.299608  2.600879\n",
            "2 -0.974981 -0.304736\n",
            "3  1.930501 -0.583135\n",
            "4  1.493854 -0.379565\n",
            "5  0.010991 -0.143223\n",
            "6  0.783705 -1.226141\n",
            "7  0.662119 -1.151466\n",
            "8  0.952040 -0.283186\n",
            "9 -0.630947 -0.069860\n"
          ]
        }
      ]
    },
    {
      "cell_type": "code",
      "source": [
        " mean1=mean(data1.('a'))\n"
      ],
      "metadata": {
        "colab": {
          "base_uri": "https://localhost:8080/",
          "height": 106
        },
        "id": "Tx-yCuv_RBTR",
        "outputId": "7bbf6c5c-926a-4d8d-dc49-1838d3320533"
      },
      "execution_count": 71,
      "outputs": [
        {
          "output_type": "error",
          "ename": "SyntaxError",
          "evalue": "invalid syntax (<ipython-input-71-5770b489a939>, line 1)",
          "traceback": [
            "\u001b[0;36m  File \u001b[0;32m\"<ipython-input-71-5770b489a939>\"\u001b[0;36m, line \u001b[0;32m1\u001b[0m\n\u001b[0;31m    mean1=mean(data1.('a'))\u001b[0m\n\u001b[0m                     ^\u001b[0m\n\u001b[0;31mSyntaxError\u001b[0m\u001b[0;31m:\u001b[0m invalid syntax\n"
          ]
        }
      ]
    },
    {
      "cell_type": "markdown",
      "source": [
        "data1=pd.DataFrame({\n",
        "    a=np.random.choice(['1','2','3'],size=10),\n",
        "    b = np.random.normal(loc=10,scale=2,size=10)\n",
        "})\n",
        "print(data1)"
      ],
      "metadata": {
        "id": "22xUxi21S6rP"
      }
    },
    {
      "cell_type": "code",
      "source": [
        "m1=np.mean(data1(a))"
      ],
      "metadata": {
        "colab": {
          "base_uri": "https://localhost:8080/",
          "height": 141
        },
        "id": "GE_3b9oWTIjw",
        "outputId": "b6fccd91-2957-454c-9f26-5eaf5cbc68b9"
      },
      "execution_count": 84,
      "outputs": [
        {
          "output_type": "error",
          "ename": "NameError",
          "evalue": "name 'a' is not defined",
          "traceback": [
            "\u001b[0;31m---------------------------------------------------------------------------\u001b[0m",
            "\u001b[0;31mNameError\u001b[0m                                 Traceback (most recent call last)",
            "\u001b[0;32m<ipython-input-84-2c9583202ae7>\u001b[0m in \u001b[0;36m<cell line: 1>\u001b[0;34m()\u001b[0m\n\u001b[0;32m----> 1\u001b[0;31m \u001b[0mm1\u001b[0m\u001b[0;34m=\u001b[0m\u001b[0mnp\u001b[0m\u001b[0;34m.\u001b[0m\u001b[0mmean\u001b[0m\u001b[0;34m(\u001b[0m\u001b[0mdata1\u001b[0m\u001b[0;34m(\u001b[0m\u001b[0ma\u001b[0m\u001b[0;34m)\u001b[0m\u001b[0;34m)\u001b[0m\u001b[0;34m\u001b[0m\u001b[0;34m\u001b[0m\u001b[0m\n\u001b[0m",
            "\u001b[0;31mNameError\u001b[0m: name 'a' is not defined"
          ]
        }
      ]
    },
    {
      "cell_type": "code",
      "source": [
        "#ANOVA (One-way ANOVA)\n",
        "f_stat,p_value=stats.f_oneway(data[data['treatment']=='A']['score'],\n",
        "                                data[data['treatment']=='B']['score'],\n",
        "                                data[data['treatment']=='C']['score'])\n",
        "print(\"F-statistic :\",f_stat)\n",
        "print(\"p-value :\",p_value)"
      ],
      "metadata": {
        "colab": {
          "base_uri": "https://localhost:8080/"
        },
        "id": "NME1zukDUhMY",
        "outputId": "da3c8cff-aedf-4d81-cf8c-11877d7142f3"
      },
      "execution_count": 90,
      "outputs": [
        {
          "output_type": "stream",
          "name": "stdout",
          "text": [
            "F-statistic : nan\n",
            "p-value : nan\n"
          ]
        },
        {
          "output_type": "stream",
          "name": "stderr",
          "text": [
            "/usr/local/lib/python3.10/dist-packages/scipy/stats/_stats_py.py:4133: DegenerateDataWarning: at least one input has length 0\n",
            "  warnings.warn(stats.DegenerateDataWarning('at least one input '\n"
          ]
        }
      ]
    }
  ]
}